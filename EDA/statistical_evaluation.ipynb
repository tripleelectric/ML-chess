{
 "cells": [
  {
   "cell_type": "markdown",
   "id": "53849ffe",
   "metadata": {},
   "source": [
    "## Evaluation different statistical Questions\n",
    "\n",
    "1. How diverse are the player ratings (elo)\n",
    "2. Do game lengths predict outcome? (Using CV)\n",
    "3. Which opening lead to the most predictable outcomes?\n",
    "4. Which openings produce unusually short or longer games compared to typical games? (Z-Scores)"
   ]
  },
  {
   "cell_type": "code",
   "execution_count": null,
   "id": "baf7f019",
   "metadata": {},
   "outputs": [],
   "source": [
    "# === INITIALIZE ===\n",
    "import pandas as pd\n",
    "import numpy as np\n",
    "import matplotlib.pyplot as plt\n",
    "\n",
    "df = pd.read_csv(\"data/games.csv\")"
   ]
  },
  {
   "cell_type": "markdown",
   "id": "0d880326",
   "metadata": {},
   "source": [
    "### Question #1: How diverse are the player ratings?"
   ]
  },
  {
   "cell_type": "code",
   "execution_count": null,
   "id": "9b2a9ed5",
   "metadata": {},
   "outputs": [],
   "source": [
    "\n",
    "white_rating_stats = {\n",
    "    \"mean\": df[\"white_rating\"].mean(),\n",
    "    \"std_dev\": df[\"white_rating\"].std()\n",
    "}\n",
    "\n",
    "black_rating_stats = {\n",
    "    \"mean\": df[\"black_rating\"].mean(),\n",
    "    \"st_dev\": df[\"black_rating\"].std()\n",
    "}\n",
    "print(f\"Stats White: {white_rating_stats}\")\n",
    "print(f\"Stats White: {black_rating_stats}\")"
   ]
  },
  {
   "cell_type": "code",
   "execution_count": null,
   "id": "844ec3b6",
   "metadata": {},
   "outputs": [],
   "source": [
    "# How many players are within +- 1 std dev around the mean?\n",
    "\n",
    "# around_mean = df[df[\"white_rating\" ] > white_rating_stats[\"mean\"] - white_rating_stats[\"std_dev\"] and df[\"white_rating\"] < white_rating_stats[\"mean\"] + white_rating_stats[\"std_dev\"] ]\n",
    "around_mean = df[df[\"white_rating\" ] > white_rating_stats[\"mean\"] - white_rating_stats[\"std_dev\"]]\n",
    "around_mean = df[df[\"white_rating\" ] < (white_rating_stats[\"mean\"] + white_rating_stats[\"std_dev\"])]"
   ]
  },
  {
   "cell_type": "code",
   "execution_count": null,
   "id": "5c432c0f",
   "metadata": {},
   "outputs": [],
   "source": [
    "\n",
    "plt.figure(figsize=(12, 4))\n",
    "\n",
    "# Plot 1: Distribution with standard deviation markers\n",
    "plt.subplot(1, 2, 1)\n",
    "plt.hist(df['white_rating'], bins=50, edgecolor='black')\n",
    "# plotting the standard deviation +- 1xStandarddeviation\n",
    "plt.axvline(white_rating_stats['mean'], color='red', linestyle='--', label=f'Mean: {white_rating_stats[\"mean\"]:.0f}')\n",
    "plt.axvline(white_rating_stats['mean'] - white_rating_stats['std_dev'], color='orange', linestyle='--', label='±1 Std Dev')\n",
    "plt.axvline(white_rating_stats['mean'] + white_rating_stats['std_dev'], color='orange', linestyle='--')\n",
    "plt.xlabel('Player Rating')\n",
    "plt.ylabel('Number of Players')\n",
    "plt.title('Player Rating Distribution')\n",
    "plt.legend()"
   ]
  },
  {
   "cell_type": "markdown",
   "id": "fea5f5a7",
   "metadata": {},
   "source": [
    "## Interpretation: \"Player Rating Distribution\"\n",
    "\n",
    "The visualization shows, that most of the players are within the range of +- 1 standas deviation from the mean.\n",
    "\n",
    "Next up, I could check out the same for Black, but I think that there is not much\n",
    "information to gain from, since the means are very close.\n",
    "\n",
    "I could also get the statistics for all the players combined (White and Black) but since\n",
    "the sample (White) for now is a good enough representation of the population,\n",
    "I'll stick with that."
   ]
  },
  {
   "cell_type": "markdown",
   "id": "618c8d9f",
   "metadata": {},
   "source": [
    "## Question #2: What is the relationship between victory type and game length?\n"
   ]
  },
  {
   "cell_type": "code",
   "execution_count": null,
   "id": "63867a82",
   "metadata": {},
   "outputs": [],
   "source": [
    "# Get the statistical values of turns grouped by victory status\n",
    "vdf = df.groupby(by=\"victory_status\")[\"turns\"].agg([\"count\", \"mean\", \"std\"])\n",
    "\n",
    "# Adding the CV - coefficient of variation (std in relation to mean) (the data is approximately normally distributed)\n",
    "vdf['coef_variation'] = (vdf['std'] / vdf['mean']).round(3)\n",
    "\n",
    "print(vdf)\n",
    "for victory_type in vdf.index:\n",
    "    cv = vdf.loc[victory_type, 'coef_variation']\n",
    "    print(f\"  {victory_type:12}: {cv:.3f} (Mean: {vdf.loc[victory_type, 'mean']:.1f} turns)\")"
   ]
  },
  {
   "cell_type": "markdown",
   "id": "9fdd13dd",
   "metadata": {},
   "source": [
    "### Interpretation: Coefficient of Variation\n",
    "Unfortunately, there is no clear pattern that says much about the game length in turns\n",
    "relative to the win condition.\n",
    "\n",
    "**-> Chess games a pretty variable in terms of the amount of turns. No matter how the\n",
    "game is won.**"
   ]
  }
 ],
 "metadata": {
  "kernelspec": {
   "display_name": "ml_env",
   "language": "python",
   "name": "python3"
  },
  "language_info": {
   "codemirror_mode": {
    "name": "ipython",
    "version": 3
   },
   "file_extension": ".py",
   "mimetype": "text/x-python",
   "name": "python",
   "nbconvert_exporter": "python",
   "pygments_lexer": "ipython3",
   "version": "3.10.18"
  }
 },
 "nbformat": 4,
 "nbformat_minor": 5
}
