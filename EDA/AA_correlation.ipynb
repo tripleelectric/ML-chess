{
 "cells": [
  {
   "cell_type": "markdown",
   "id": "4e48247e",
   "metadata": {},
   "source": [
    "# Applying correlation calculation\n",
    "1. **Do higher-rated players have longer games?** (Rating vs Game length)\n",
    "2. **Does rating advantage predict win probability?** (Rating diff vs Wins)  \n",
    "3. **Which chess features are most related?** (Feature correlation matrix)\n",
    "4. **How strong are these relationships in practice?**"
   ]
  },
  {
   "cell_type": "code",
   "execution_count": null,
   "id": "48df9ef2",
   "metadata": {},
   "outputs": [],
   "source": [
    "# === INITIALIZE ===\n",
    "import pandas as pd\n",
    "import numpy as np\n",
    "import matplotlib.pyplot as plt\n",
    "\n",
    "df = pd.read_csv(\"data/games.csv\")"
   ]
  },
  {
   "cell_type": "code",
   "execution_count": null,
   "id": "60794d12",
   "metadata": {},
   "outputs": [
    {
     "name": "stdout",
     "output_type": "stream",
     "text": [
      "0.12975262317741112\n"
     ]
    }
   ],
   "source": [
    "# === (1) Does rating and game length correlate? ===\n",
    "\n",
    "def pearson_r(x, y):\n",
    "    # Step 1: Calculate means\n",
    "    mean_x = np.mean(x)\n",
    "    mean_y = np.mean(y)\n",
    "\n",
    "    # Step 2: Calculate deviations\n",
    "    dev_x = x - mean_x\n",
    "    dev_y = y - mean_y\n",
    "\n",
    "    # Step 3: Sum of products of deviations\n",
    "    sum_products = np.sum(dev_x * dev_y)\n",
    "\n",
    "    # Step 4: Sum of squares for each variable\n",
    "    sum_sq_x = np.sum(dev_x ** 2)\n",
    "    sum_sq_y = np.sum(dev_y ** 2)\n",
    "\n",
    "    # Step 5: Correlation coefficient\n",
    "    correlation = sum_products / np.sqrt(sum_sq_x * sum_sq_y)\n",
    "\n",
    "    return correlation\n",
    "\n",
    "print(pearson_r(df[\"white_rating\"], df[\"turns\"]))\n",
    "\n",
    "\n",
    "\n"
   ]
  }
 ],
 "metadata": {
  "kernelspec": {
   "display_name": "ml_env",
   "language": "python",
   "name": "python3"
  },
  "language_info": {
   "codemirror_mode": {
    "name": "ipython",
    "version": 3
   },
   "file_extension": ".py",
   "mimetype": "text/x-python",
   "name": "python",
   "nbconvert_exporter": "python",
   "pygments_lexer": "ipython3",
   "version": "3.10.18"
  }
 },
 "nbformat": 4,
 "nbformat_minor": 5
}
