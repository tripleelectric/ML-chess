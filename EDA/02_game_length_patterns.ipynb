{
 "cells": [
  {
   "cell_type": "markdown",
   "id": "45a9a9e1",
   "metadata": {},
   "source": [
    "# Game length patterns\n",
    "## Question: How long do chess games typically last, and what factors influence game duration?\n",
    "## Tasks\n",
    "- Calculate average game length by victory type\n",
    "- Find the shortest and longest games\n",
    "- Identify if certain openings lead to shorter/longer games\n",
    "- Create a \"game length profile\" for different victory types"
   ]
  },
  {
   "cell_type": "code",
   "execution_count": 8,
   "id": "4de37c32",
   "metadata": {},
   "outputs": [],
   "source": [
    "# === INITIALIZE ===\n",
    "import pandas as pd\n",
    "import numpy as np\n",
    "import matplotlib.pyplot as plt\n",
    "\n",
    "df = pd.read_csv(\"data/games.csv\")"
   ]
  },
  {
   "cell_type": "code",
   "execution_count": 9,
   "id": "20313f4c",
   "metadata": {},
   "outputs": [
    {
     "name": "stdout",
     "output_type": "stream",
     "text": [
      "                count       mean        std  coef_variation\n",
      "victory_status                                             \n",
      "draw              906  83.781457  45.318111           0.541\n",
      "mate             6325  65.415020  33.245468           0.508\n",
      "outoftime        1680  72.742857  39.104104           0.538\n",
      "resign          11147  53.912533  29.665326           0.550\n"
     ]
    }
   ],
   "source": [
    "# == [1] Average game length by victory type\n",
    "\n",
    "# Get the statistical values of turns grouped by victory status\n",
    "vdf = df.groupby(by=\"victory_status\")[\"turns\"].agg([\"count\", \"mean\", \"std\"])\n",
    "\n",
    "# Adding the CV - coefficient of variation (std in relation to mean) (the data has to be approximately normally distributed)\n",
    "vdf['coef_variation'] = (vdf['std'] / vdf['mean']).round(3)\n",
    "\n",
    "print(vdf)"
   ]
  },
  {
   "cell_type": "markdown",
   "id": "8de52c18",
   "metadata": {},
   "source": [
    "**Interpretation**\n",
    "The data mostly follows intuition in my opinion:\n",
    "1. \"draw\" games are the longest, stretched out games on average. There just are a lot of late game\n",
    "situations that lead to a draw.\n",
    "2. \"mate\" games are way shorter and the deviation is smaller, the \"mate\" games *feel*\n",
    "way more determined than draw games by experience.\n",
    "3. \"outoftime\" games follow the direction of draw games.\n",
    "4. \"resign\" games are the shortest and from a players perspective holds the most deterministic situations.\n",
    "You instantly know when there is no (little) chance and forfeit fast.\n",
    "5. If you ever played online, it just makes sense that \"resign\" has the highest count.\n",
    "6. The standard deviations make up pretty much the same percentage relative to the mean,\n",
    "   in basically every outcome. There could be a discussion on why \"mate\" stands out with\n",
    "   up to .42 difference in the *coefficient of variation*."
   ]
  },
  {
   "cell_type": "code",
   "execution_count": 12,
   "id": "458e6b5f",
   "metadata": {},
   "outputs": [
    {
     "name": "stdout",
     "output_type": "stream",
     "text": [
      "Shortest game:\n",
      "\n",
      "id                         3K5kYPO8\n",
      "rated                          True\n",
      "created_at          1491530000000.0\n",
      "last_move_at        1491530000000.0\n",
      "turns                             1\n",
      "victory_status               resign\n",
      "winner                        black\n",
      "increment_code                 10+0\n",
      "white_id               serik-astana\n",
      "white_rating                   1464\n",
      "black_id                 brorael357\n",
      "black_rating                   1355\n",
      "moves                            g3\n",
      "opening_eco                     A00\n",
      "opening_name      Hungarian Opening\n",
      "opening_ply                       1\n",
      "Name: 1946, dtype: object\n",
      "\n",
      "\n",
      "Longest game:\n",
      "\n",
      "id                                                         pN0ioHNr\n",
      "rated                                                          True\n",
      "created_at                                          1503084425823.0\n",
      "last_move_at                                        1503085571843.0\n",
      "turns                                                           349\n",
      "victory_status                                            outoftime\n",
      "winner                                                        white\n",
      "increment_code                                                 10+0\n",
      "white_id                                                     shiwen\n",
      "white_rating                                                   2194\n",
      "black_id                                                      kijek\n",
      "black_rating                                                   2240\n",
      "moves             d4 d5 c4 c6 Nf3 Nf6 Nc3 e6 Bg5 h6 Bxf6 Qxf6 Qb...\n",
      "opening_eco                                                     D30\n",
      "opening_name            Queen's Gambit Declined: Hastings Variation\n",
      "opening_ply                                                      13\n",
      "Name: 11554, dtype: object\n"
     ]
    }
   ],
   "source": [
    "# == [2] Shortest and longest games\n",
    "min_l_game = df.loc[df[\"turns\"].idxmin()]\n",
    "max_l_game = df.loc[df[\"turns\"].idxmax()]\n",
    "print(f\"Shortest game:\\n\\n{min_l_game}\\n\\n\")\n",
    "print(f\"Longest game:\\n\\n{max_l_game}\")\n",
    "\n"
   ]
  },
  {
   "cell_type": "markdown",
   "id": "20c1a621",
   "metadata": {},
   "source": [
    "### Interpretation: \\[2\\] Shortest and longest games\n",
    "\n",
    "**Shortest game:**\n",
    "\n",
    "So, one would think, that there is no information to gain from the shortest game, since\n",
    "\n",
    "it would just be a game, which gets forfeited instantly.\n",
    "\n",
    "Still there is some information to, at least meta information.\n",
    "\n",
    "\n",
    "1. Despite there is just one move made (g3), lichchess still assigns a opening, which\n",
    "\n",
    "gives information on how lichchess gains data. This information could under circumstances\n",
    "\n",
    "be crucial in furter exploration and or modelling.\n",
    "\n",
    "1. The fact, that there is no game with 0 turns in the whole dataset, could suggest,\n",
    "\n",
    "that lichchess does\n",
    "\n",
    "not persist games with 0 moves.\n",
    "\n",
    "\n",
    "**Longest game:**\n",
    "\n",
    "Now the longest game went on for an astonishing 349 moves, just so that black ran out\n",
    "\n",
    "of time. It is to be expected, that the players have more or less the same ratings.\n",
    "\n"
   ]
  },
  {
   "cell_type": "code",
   "execution_count": null,
   "id": "d351c4d9",
   "metadata": {},
   "outputs": [],
   "source": [
    "\n",
    "fastest_opening = opening_stats.loc[opening_stats[\"mean\"].idxmin()]\n",
    "\n",
    "print(fastest_opening)\n",
    "# Top 5 openings with the shortest games on average\n",
    "# top_shortest = opening_stats.sort_values(by='mean', ascending=True).head()\n",
    "# print(f\"Top 5 openings with the shortest games on average:\\n{top_shortest}\")\n",
    "\n",
    "# Games with the smallest deviation in game length\n",
    "# opening_stats[\"cv\"] = opening_stats[\"std\"] / opening_stats[\"mean\"]\n",
    "\n",
    "# print(opening_stats.head())\n",
    "\n",
    "# Z-Score: How many standard deviations is the shortest opening game length mean, away from the overall mean?\n",
    "\n",
    "# opening with the shortest smallest game length mean\n",
    "# shortest_opening = opening_stats[opening_stats[\"mean\"].idxmin()]"
   ]
  }
 ],
 "metadata": {
  "kernelspec": {
   "display_name": "ml_env",
   "language": "python",
   "name": "python3"
  },
  "language_info": {
   "codemirror_mode": {
    "name": "ipython",
    "version": 3
   },
   "file_extension": ".py",
   "mimetype": "text/x-python",
   "name": "python",
   "nbconvert_exporter": "python",
   "pygments_lexer": "ipython3",
   "version": "3.10.18"
  }
 },
 "nbformat": 4,
 "nbformat_minor": 5
}
