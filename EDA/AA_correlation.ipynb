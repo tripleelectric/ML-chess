{
 "cells": [
  {
   "cell_type": "markdown",
   "id": "4e48247e",
   "metadata": {},
   "source": [
    "# Applying correlation calculation\n",
    "1. **Do higher-rated players have longer games?** (Rating vs Game length)\n",
    "2. **Does rating advantage predict win probability?** (Rating diff vs Wins)  \n",
    "3. **Which chess features are most related?** (Feature correlation matrix)\n",
    "4. **How strong are these relationships in practice?**"
   ]
  },
  {
   "cell_type": "code",
   "execution_count": 21,
   "id": "48df9ef2",
   "metadata": {
    "ExecuteTime": {
     "end_time": "2025-10-08T17:05:55.333124Z",
     "start_time": "2025-10-08T17:05:55.213710Z"
    }
   },
   "outputs": [
    {
     "name": "stdout",
     "output_type": "stream",
     "text": [
      "20058\n"
     ]
    }
   ],
   "source": [
    "# === INITIALIZE ===\n",
    "import pandas as pd\n",
    "import numpy as np\n",
    "import matplotlib.pyplot as plt\n",
    "\n",
    "df = pd.read_csv(\"../data/games.csv\")\n",
    "print(df.__len__())"
   ]
  },
  {
   "cell_type": "code",
   "execution_count": 2,
   "id": "60794d12",
   "metadata": {
    "ExecuteTime": {
     "end_time": "2025-10-08T16:25:39.093939Z",
     "start_time": "2025-10-08T16:25:39.086020Z"
    }
   },
   "outputs": [
    {
     "name": "stdout",
     "output_type": "stream",
     "text": [
      "0.12975262317741112\n"
     ]
    }
   ],
   "source": [
    "# === (1) Does rating and game length correlate? ===\n",
    "\n",
    "def pearson_r(x, y):\n",
    "    # Step 1: Calculate means\n",
    "    mean_x = np.mean(x)\n",
    "    mean_y = np.mean(y)\n",
    "\n",
    "    # Step 2: Calculate deviations (distances)\n",
    "    dev_x = x - mean_x\n",
    "    dev_y = y - mean_y\n",
    "\n",
    "    # Step 3: Sum of products of deviations\n",
    "    sum_products = np.sum(dev_x * dev_y)\n",
    "\n",
    "    # Step 4: Sum of squares for each variable\n",
    "    sum_sq_x = np.sum(dev_x ** 2)\n",
    "    sum_sq_y = np.sum(dev_y ** 2)\n",
    "\n",
    "    # Step 5: Correlation coefficient\n",
    "    correlation = sum_products / np.sqrt(sum_sq_x * sum_sq_y)\n",
    "\n",
    "    return correlation\n",
    "\n",
    "print(pearson_r(df[\"white_rating\"], df[\"turns\"]))\n",
    "\n",
    "\n",
    "\n"
   ]
  },
  {
   "cell_type": "markdown",
   "id": "a1dd02ab",
   "metadata": {},
   "source": [
    "**Answer to Question #2**\n",
    "So we found out, that there is almost no correlation between player rating and game length.\n",
    "\"Higher rated players do not have significantly longer games\".\n"
   ]
  },
  {
   "cell_type": "markdown",
   "id": "97e4fdba",
   "metadata": {},
   "source": [
    "2. **Does rating advantage predict win probability?** (Rating diff vs Wins)"
   ]
  },
  {
   "cell_type": "code",
   "execution_count": 33,
   "id": "b44e3afd",
   "metadata": {
    "ExecuteTime": {
     "end_time": "2025-10-08T17:12:52.494117Z",
     "start_time": "2025-10-08T17:12:52.478811Z"
    }
   },
   "outputs": [
    {
     "name": "stdout",
     "output_type": "stream",
     "text": [
      "0.10002212658394943\n"
     ]
    }
   ],
   "source": [
    "df[\"rating_diff\"] = df[\"white_rating\"] - df[\"black_rating\"]\n",
    "df[\"winner_code\"] = df[\"winner\"].map(lambda x: 1 if x == \"white\" else 0)\n",
    "dev_df = df[df[\"rating_diff\"] > 300]\n",
    "cor = pearson_r(dev_df[\"rating_diff\"], dev_df[\"winner_code\"])\n",
    "print(cor)\n",
    "\n",
    "# > I am not sure if this is quite right. 10% seems a bit small to me."
   ]
  },
  {
   "cell_type": "markdown",
   "id": "6d1a4ee32b0ac9d2",
   "metadata": {},
   "source": []
  }
 ],
 "metadata": {
  "kernelspec": {
   "display_name": "ml_env",
   "language": "python",
   "name": "python3"
  },
  "language_info": {
   "codemirror_mode": {
    "name": "ipython",
    "version": 3
   },
   "file_extension": ".py",
   "mimetype": "text/x-python",
   "name": "python",
   "nbconvert_exporter": "python",
   "pygments_lexer": "ipython3",
   "version": "3.10.18"
  }
 },
 "nbformat": 4,
 "nbformat_minor": 5
}
