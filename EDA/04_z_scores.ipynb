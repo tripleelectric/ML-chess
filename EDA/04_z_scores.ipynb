{
 "cells": [
  {
   "cell_type": "markdown",
   "id": "dcdbd951",
   "metadata": {},
   "source": [
    "### Question 4:\n",
    "\n",
    "Which openings produce unusually short or longer games compared to typical games? (Z-Scores)"
   ]
  },
  {
   "cell_type": "code",
   "execution_count": 2,
   "id": "8773a455",
   "metadata": {},
   "outputs": [],
   "source": [
    "# === INITIALIZE ===\n",
    "import pandas as pd\n",
    "import numpy as np\n",
    "import matplotlib.pyplot as plt\n",
    "\n",
    "df = pd.read_csv(\"data/games.csv\")"
   ]
  },
  {
   "cell_type": "code",
   "execution_count": 16,
   "id": "8ed0e576",
   "metadata": {},
   "outputs": [
    {
     "name": "stdout",
     "output_type": "stream",
     "text": [
      "                                      count       mean        std\n",
      "opening_name                                                     \n",
      "Alekhine Defense                         46  57.717391  34.979145\n",
      "Alekhine Defense #2                       3  56.666667  54.683940\n",
      "Alekhine Defense #3                       1  26.000000        NaN\n",
      "Alekhine Defense: Balogh Variation        1  34.000000        NaN\n",
      "Alekhine Defense: Brooklyn Variation      2  43.000000  22.627417\n",
      "Total Dataframe length: 1477\n",
      "382\n",
      "Total Dataframe length: 1095\n",
      "Total unique Openings: 1477\n",
      "Total unique Openings: 365\n"
     ]
    }
   ],
   "source": [
    "# == Analyze game length by opening ==\n",
    "\n",
    "opening_stats = df.groupby([\"opening_name\"])[\"turns\"].agg([\"count\", \"mean\", \"std\"])\n",
    "print(opening_stats.head())\n",
    "print(f\"Total Dataframe length: {opening_stats.__len__()}\")\n",
    "print(opening_stats[\"std\"].isnull().sum())\n",
    "opening_stats.dropna(inplace=True)\n",
    "print(f\"Total Dataframe length: {opening_stats.__len__()}\")\n",
    "\n",
    "print(f\"Total unique Openings: {df['opening_name'].unique().__len__()}\")\n",
    "print(f\"Total unique Openings: {df['opening_eco'].unique().__len__()}\")"
   ]
  }
 ],
 "metadata": {
  "kernelspec": {
   "display_name": "ml_env",
   "language": "python",
   "name": "python3"
  },
  "language_info": {
   "codemirror_mode": {
    "name": "ipython",
    "version": 3
   },
   "file_extension": ".py",
   "mimetype": "text/x-python",
   "name": "python",
   "nbconvert_exporter": "python",
   "pygments_lexer": "ipython3",
   "version": "3.10.18"
  }
 },
 "nbformat": 4,
 "nbformat_minor": 5
}
