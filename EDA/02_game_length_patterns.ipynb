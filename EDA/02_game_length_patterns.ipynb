{
 "cells": [
  {
   "cell_type": "markdown",
   "id": "45a9a9e1",
   "metadata": {},
   "source": [
    "# Game length patterns\n",
    "## Question: How long do chess games typically last, and what factors influence game duration?\n",
    "## Tasks\n",
    "- Calculating average game length by victory type\n",
    "- Finding the shortest and longest games\n",
    "- Identifying if certain openings lead to shorter/longer games\n",
    "- Create a \"game length profile\" for different victory types"
   ]
  },
  {
   "cell_type": "code",
   "execution_count": 8,
   "id": "4de37c32",
   "metadata": {},
   "outputs": [],
   "source": [
    "# === INITIALIZE ===\n",
    "import pandas as pd\n",
    "import numpy as np\n",
    "import matplotlib.pyplot as plt\n",
    "\n",
    "df = pd.read_csv(\"data/games.csv\")"
   ]
  },
  {
   "cell_type": "code",
   "execution_count": 9,
   "id": "20313f4c",
   "metadata": {},
   "outputs": [
    {
     "name": "stdout",
     "output_type": "stream",
     "text": [
      "                count       mean        std  coef_variation\n",
      "victory_status                                             \n",
      "draw              906  83.781457  45.318111           0.541\n",
      "mate             6325  65.415020  33.245468           0.508\n",
      "outoftime        1680  72.742857  39.104104           0.538\n",
      "resign          11147  53.912533  29.665326           0.550\n"
     ]
    }
   ],
   "source": [
    "# == [1] Average game length by victory type\n",
    "\n",
    "# Get the statistical values of turns grouped by victory status\n",
    "vdf = df.groupby(by=\"victory_status\")[\"turns\"].agg([\"count\", \"mean\", \"std\"])\n",
    "\n",
    "# Adding the CV - coefficient of variation (std in relation to mean) (the data has to be approximately normally distributed)\n",
    "vdf['coef_variation'] = (vdf['std'] / vdf['mean']).round(3)\n",
    "\n",
    "print(vdf)"
   ]
  },
  {
   "cell_type": "markdown",
   "id": "8de52c18",
   "metadata": {},
   "source": [
    "**Interpretation**\n",
    "The data mostly follows intuition in my opinion:\n",
    "\n",
    "\n",
    "**1.** \"draw\" games are the longest, stretched out games on average. There just are a lot of late game\n",
    "situations that lead to a draw.\n",
    "\n",
    "**2.** \"mate\" games are way shorter and the deviation is smaller, the \"mate\" games *feel*\n",
    "   \n",
    "way more determined than draw games by experience.\n",
    "\n",
    "**3.** \"outoftime\" games follow the direction of draw games.\n",
    "   \n",
    "**4.** \"resign\" games are the shortest and from a players perspective holds the most deterministic situations.\n",
    "\n",
    "You instantly know when there is no (little) chance and forfeit fast.\n",
    "\n",
    "\n",
    "**5.** If you ever played online, it just makes sense that \"resign\" has the highest count.\n",
    "\n",
    "**6.** The standard deviations make up pretty much the same percentage relative to the mean,\n",
    "\n",
    "   in basically every outcome. There could be a discussion on why \"mate\" stands out with\n",
    "\n",
    "   up to .42 difference in the *coefficient of variation*."
   ]
  },
  {
   "cell_type": "code",
   "execution_count": null,
   "id": "458e6b5f",
   "metadata": {},
   "outputs": [],
   "source": [
    "# == [2] Shortest and longest games\n",
    "df['created_at'] = pd.to_datetime(df['created_at'])\n",
    "df['last_move_at'] = pd.to_datetime(df['last_move_at'])\n",
    "\n",
    "min_l_game = df.loc[df[\"turns\"].idxmin()]\n",
    "max_l_game = df.loc[df[\"turns\"].idxmax()]\n",
    "print(f\"Shortest game:\\n\\n{min_l_game}\\n\\n\")\n",
    "print(f\"Longest game:\\n\\n{max_l_game}\")\n"
   ]
  },
  {
   "cell_type": "markdown",
   "id": "20c1a621",
   "metadata": {},
   "source": [
    "### Interpretation: \\[2\\] Shortest and longest games\n",
    "\n",
    "**Shortest game:**\n",
    "\n",
    "So, one would think, that there is no information to gain from the shortest game, since\n",
    "\n",
    "it would just be a game, which gets forfeited instantly.\n",
    "\n",
    "Still there is some information to, at least meta information.\n",
    "\n",
    "\n",
    "1. Despite there is just one move made (g3), lichchess still assigns a opening, which\n",
    "\n",
    "gives information on how lichchess gains data. This information could under circumstances\n",
    "\n",
    "be crucial in furter exploration and or modelling.\n",
    "\n",
    "1. The fact, that there is no game with 0 turns in the whole dataset, could suggest,\n",
    "\n",
    "that lichchess does\n",
    "\n",
    "not persist games with 0 moves.\n",
    "\n",
    "\n",
    "**Longest game:**\n",
    "\n",
    "Now the longest game went on for an astonishing 349 moves, just so that black ran out\n",
    "\n",
    "of time. It is to be expected, that the players have more or less the same ratings.\n",
    "\n"
   ]
  },
  {
   "cell_type": "code",
   "execution_count": 28,
   "id": "d351c4d9",
   "metadata": {},
   "outputs": [
    {
     "name": "stdout",
     "output_type": "stream",
     "text": [
      "Top 5 openings with the shortest games on average:\n",
      "             count       mean        std        cv\n",
      "opening_eco                                       \n",
      "C23            155  49.529032  33.145941  0.669222\n",
      "C57            121  49.694215  36.070034  0.725840\n",
      "C40            446  51.782511  31.769603  0.613520\n",
      "B00            611  54.783961  35.200118  0.642526\n",
      "C20            675  55.088889  36.655438  0.665387\n",
      "\n",
      "\n",
      "Top 5 openings with the shortest games on average:\n",
      "             count       mean        std        cv\n",
      "opening_eco                                       \n",
      "B90            101  68.653465  30.595240  0.445647\n",
      "B40            129  68.348837  32.339665  0.473156\n",
      "B50            226  67.101770  34.457230  0.513507\n",
      "B06            176  66.602273  35.490535  0.532873\n",
      "C62            137  66.467153  32.200213  0.484453\n"
     ]
    },
    {
     "name": "stderr",
     "output_type": "stream",
     "text": [
      "/var/folders/nt/gd8mq25j1cd29qmwnym_mbjc0000gn/T/ipykernel_27355/2077094584.py:3: UserWarning: Boolean Series key will be reindexed to match DataFrame index.\n",
      "  top_shortest = opening_stats.sort_values(by='mean', ascending=True)[opening_stats[\"count\"] > 100].head()\n",
      "/var/folders/nt/gd8mq25j1cd29qmwnym_mbjc0000gn/T/ipykernel_27355/2077094584.py:6: UserWarning: Boolean Series key will be reindexed to match DataFrame index.\n",
      "  top_longest = opening_stats.sort_values(by='mean', ascending=False)[opening_stats[\"count\"] > 100].head()\n"
     ]
    }
   ],
   "source": [
    "# === [3] Identifying if certain openings lead to shorter/longer games\n",
    "# top_shortest = opening_stats.sort_values(by='mean', ascending=True).head()\n",
    "top_shortest = opening_stats.sort_values(by='mean', ascending=True)[opening_stats[\"count\"] > 100].head()\n",
    "print(f\"Top 5 openings with the shortest games on average:\\n{top_shortest}\\n\\n\")\n",
    "\n",
    "top_longest = opening_stats.sort_values(by='mean', ascending=False)[opening_stats[\"count\"] > 100].head()\n",
    "print(f\"Top 5 openings with the shortest games on average:\\n{top_longest}\")"
   ]
  },
  {
   "cell_type": "markdown",
   "id": "8c8a41ca",
   "metadata": {},
   "source": [
    "**Interpretation:**\n",
    "I think there is not much information to gain from this data.\n",
    "\n",
    "1. In the top 5, no matter if shortest or longest, there is not much variation\n",
    "   ingame lengths. Also the openings are pretty stable in terms of deviation (and relative to chess)\n",
    "\n",
    "2. There is a factor which could corrupt the data. Since some openings are rarely played, their stats\n",
    "   could come from one or few players, that apply their individual style on to the stats, and the\n",
    "   opening has not much to do with the i.e. mean.\n",
    "   If this would be a business project, something like this should definitely be checked out.\n",
    "   For now I'll leave it out.\n",
    "\n",
    "3. If the treshhold for relevant game counts is increased from 50 to i.e. 100, the data shows\n",
    "   a significant rise in the coefficient of variance. Which means, that the games vary much more\n",
    "   in game lenghts. I interpret this as a result of that the more popular openings get played in much\n",
    "   more diverse \"tiers\". They get more tried out and tested, they also get more practiced and\n",
    "   trained. As to more rare openings, that might be just played in very small \"pockets\". For example\n",
    "   just the highest rated 5% of players tends to play opening xy."
   ]
  }
 ],
 "metadata": {
  "kernelspec": {
   "display_name": "ml_env",
   "language": "python",
   "name": "python3"
  },
  "language_info": {
   "codemirror_mode": {
    "name": "ipython",
    "version": 3
   },
   "file_extension": ".py",
   "mimetype": "text/x-python",
   "name": "python",
   "nbconvert_exporter": "python",
   "pygments_lexer": "ipython3",
   "version": "3.10.18"
  }
 },
 "nbformat": 4,
 "nbformat_minor": 5
}
